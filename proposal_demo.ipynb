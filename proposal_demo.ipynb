{
 "cells": [
  {
   "cell_type": "markdown",
   "metadata": {},
   "source": [
    "# Neural Architecture Search (NAS) via Meta Learner Advisor\n",
    "\n",
    "## Goals\n",
    "\n",
    "The goal of this project is to be able to propose Neural Archictures (and potentially even their optimization settings) \n",
    "that have good test performance. \n",
    "\n",
    "## Tasks Proposal\n",
    "\n",
    "### Task1: Optimize decoder using the true test error function/oracle\n",
    "\n",
    "In this version we want to solve:\n"
   ]
  },
  {
   "cell_type": "markdown",
   "metadata": {},
   "source": [
    "$$ \\min_{ \\theta_{Dec} }  \\mathbb E_{x,y \\sim p_{x,y}}( Dec_{\\theta_{Dec}}(x) )$$"
   ]
  },
  {
   "cell_type": "code",
   "execution_count": null,
   "metadata": {},
   "outputs": [],
   "source": []
  }
 ],
 "metadata": {
  "kernelspec": {
   "display_name": "Python 3",
   "language": "python",
   "name": "python3"
  },
  "language_info": {
   "codemirror_mode": {
    "name": "ipython",
    "version": 3
   },
   "file_extension": ".py",
   "mimetype": "text/x-python",
   "name": "python",
   "nbconvert_exporter": "python",
   "pygments_lexer": "ipython3",
   "version": "3.6.0"
  }
 },
 "nbformat": 4,
 "nbformat_minor": 2
}
