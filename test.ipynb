
# Title

Equation: $$ x^2 = 3 $$
